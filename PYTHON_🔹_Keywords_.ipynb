{
  "nbformat": 4,
  "nbformat_minor": 0,
  "metadata": {
    "colab": {
      "provenance": [],
      "authorship_tag": "ABX9TyPAEdlylfQh2ktk2Mbx/zqn",
      "include_colab_link": true
    },
    "kernelspec": {
      "name": "python3",
      "display_name": "Python 3"
    },
    "language_info": {
      "name": "python"
    }
  },
  "cells": [
    {
      "cell_type": "markdown",
      "metadata": {
        "id": "view-in-github",
        "colab_type": "text"
      },
      "source": [
        "<a href=\"https://colab.research.google.com/github/hibameo/PYTHON_-Keywords/blob/main/PYTHON_%F0%9F%94%B9_Keywords_.ipynb\" target=\"_parent\"><img src=\"https://colab.research.google.com/assets/colab-badge.svg\" alt=\"Open In Colab\"/></a>"
      ]
    },
    {
      "cell_type": "markdown",
      "source": [
        "🔹 Keywords kya hote hain?"
      ],
      "metadata": {
        "id": "mT4i1DFZk3qO"
      }
    },
    {
      "cell_type": "markdown",
      "source": [
        "Keywords wo reserved words hote hain jo Python ki language ka hissa hain. Inka specific meaning hota hai, aur inhe variable ya function ke naam ke liye use nahi kar sakte."
      ],
      "metadata": {
        "id": "JpK8BY8BlAfJ"
      }
    },
    {
      "cell_type": "markdown",
      "source": [
        "🔹 Common Python Keywords with Examples:"
      ],
      "metadata": {
        "id": "Ta_rSZ3Yl5mx"
      }
    },
    {
      "cell_type": "markdown",
      "source": [
        "1. if, elif, else – Conditional statements"
      ],
      "metadata": {
        "id": "ijPCBMval75Y"
      }
    },
    {
      "cell_type": "code",
      "source": [
        "age = 18\n",
        "\n",
        "if age >= 18:\n",
        "    print(\"Adult\")\n",
        "elif age >= 13:\n",
        "    print(\"Teenager\")\n",
        "else:\n",
        "    print(\"Child\")\n"
      ],
      "metadata": {
        "colab": {
          "base_uri": "https://localhost:8080/"
        },
        "id": "qnK8RzfrmmYn",
        "outputId": "7db5d85e-4807-4a16-9e01-81ffb95a871a"
      },
      "execution_count": 1,
      "outputs": [
        {
          "output_type": "stream",
          "name": "stdout",
          "text": [
            "Adult\n"
          ]
        }
      ]
    },
    {
      "cell_type": "markdown",
      "source": [
        "2. for, while, break, continue, pass – Loops and flow control"
      ],
      "metadata": {
        "id": "Oss9Ti6knApt"
      }
    },
    {
      "cell_type": "code",
      "source": [
        "# for loop\n",
        "for i in range(3):\n",
        "    print(i)\n",
        "\n",
        "# while loop with break\n",
        "count = 0\n",
        "while True:\n",
        "    if count == 3:\n",
        "        break\n",
        "    print(\"Count:\", count)\n",
        "    count += 1\n"
      ],
      "metadata": {
        "colab": {
          "base_uri": "https://localhost:8080/"
        },
        "id": "U5KwBwnXngDy",
        "outputId": "5d89d50b-f8fe-4c6d-f669-cb0530a1a46c"
      },
      "execution_count": 2,
      "outputs": [
        {
          "output_type": "stream",
          "name": "stdout",
          "text": [
            "0\n",
            "1\n",
            "2\n",
            "Count: 0\n",
            "Count: 1\n",
            "Count: 2\n"
          ]
        }
      ]
    },
    {
      "cell_type": "markdown",
      "source": [
        "3. def, return – Function creation and return value"
      ],
      "metadata": {
        "id": "oz1VbA2onvD9"
      }
    },
    {
      "cell_type": "code",
      "source": [
        "def greet(name):\n",
        "    return \"Hello, \" + name\n",
        "\n",
        "print(greet(\"Hiba\"))\n"
      ],
      "metadata": {
        "colab": {
          "base_uri": "https://localhost:8080/"
        },
        "id": "rEgcoxTKoYvL",
        "outputId": "eeff9475-1804-4b4a-d708-d5338e141dcd"
      },
      "execution_count": 3,
      "outputs": [
        {
          "output_type": "stream",
          "name": "stdout",
          "text": [
            "Hello, Hiba\n"
          ]
        }
      ]
    },
    {
      "cell_type": "markdown",
      "source": [
        "4. True, False, None – Special values"
      ],
      "metadata": {
        "id": "R2GVsTewo1NZ"
      }
    },
    {
      "cell_type": "code",
      "source": [
        "x = True\n",
        "y = False\n",
        "z = None\n",
        "\n",
        "print(x, y, z)\n"
      ],
      "metadata": {
        "colab": {
          "base_uri": "https://localhost:8080/"
        },
        "id": "5yVyQMh1o3OP",
        "outputId": "e5127d60-a2cf-4d26-86ae-c2f51a901606"
      },
      "execution_count": 4,
      "outputs": [
        {
          "output_type": "stream",
          "name": "stdout",
          "text": [
            "True False None\n"
          ]
        }
      ]
    },
    {
      "cell_type": "markdown",
      "source": [
        "5. import, from, as – Module import"
      ],
      "metadata": {
        "id": "cqJEU_rlo6pH"
      }
    },
    {
      "cell_type": "code",
      "source": [
        "import math\n",
        "from math import sqrt as square_root\n",
        "\n",
        "print(math.pi)\n",
        "print(square_root(16))  # 4.0\n"
      ],
      "metadata": {
        "colab": {
          "base_uri": "https://localhost:8080/"
        },
        "id": "3jnb9Vueo8Sm",
        "outputId": "5945b973-68e6-4101-e1e3-2305cc926969"
      },
      "execution_count": 5,
      "outputs": [
        {
          "output_type": "stream",
          "name": "stdout",
          "text": [
            "3.141592653589793\n",
            "4.0\n"
          ]
        }
      ]
    },
    {
      "cell_type": "markdown",
      "source": [
        "6. class, self, __init__ – Object Oriented Programming"
      ],
      "metadata": {
        "id": "L4aVG-Rio_vP"
      }
    },
    {
      "cell_type": "code",
      "source": [
        "class Student:\n",
        "    def __init__(self, name):\n",
        "        self.name = name\n",
        "\n",
        "s = Student(\"Hiba\")\n",
        "print(s.name)\n"
      ],
      "metadata": {
        "colab": {
          "base_uri": "https://localhost:8080/"
        },
        "id": "sADMb2oTpC23",
        "outputId": "bd97e6c8-2bcd-4f1e-b347-7ba784c5e115"
      },
      "execution_count": 6,
      "outputs": [
        {
          "output_type": "stream",
          "name": "stdout",
          "text": [
            "Hiba\n"
          ]
        }
      ]
    },
    {
      "cell_type": "markdown",
      "source": [
        "7. try, except, finally, raise – Error Handling"
      ],
      "metadata": {
        "id": "MQKhy-ckpPgl"
      }
    },
    {
      "cell_type": "code",
      "source": [
        "try:\n",
        "    x = 5 / 0\n",
        "except ZeroDivisionError:\n",
        "    print(\"Cannot divide by zero!\")\n",
        "finally:\n",
        "    print(\"Done\")\n"
      ],
      "metadata": {
        "colab": {
          "base_uri": "https://localhost:8080/"
        },
        "id": "49X9Xut6pRRf",
        "outputId": "f836a6f0-bc88-4eb8-9c03-b131af8adacb"
      },
      "execution_count": 7,
      "outputs": [
        {
          "output_type": "stream",
          "name": "stdout",
          "text": [
            "Cannot divide by zero!\n",
            "Done\n"
          ]
        }
      ]
    },
    {
      "cell_type": "markdown",
      "source": [
        "8. and, or, not, is, in – Logical / Membership Operators"
      ],
      "metadata": {
        "id": "q_bp5DOzpW9k"
      }
    },
    {
      "cell_type": "code",
      "source": [
        "a = 10\n",
        "b = 20\n",
        "\n",
        "print(a > 5 and b < 30)   # True\n",
        "print(a in [5, 10, 15])   # True\n",
        "print(a is b)             # False (identity check)\n"
      ],
      "metadata": {
        "colab": {
          "base_uri": "https://localhost:8080/"
        },
        "id": "zJswhyTPpY5J",
        "outputId": "1a5bfad5-0d0c-48ce-8348-65a222bb6538"
      },
      "execution_count": 8,
      "outputs": [
        {
          "output_type": "stream",
          "name": "stdout",
          "text": [
            "True\n",
            "True\n",
            "False\n"
          ]
        }
      ]
    },
    {
      "cell_type": "markdown",
      "source": [
        "🔹 All Python Keywords List (Python 3.x):"
      ],
      "metadata": {
        "id": "OKXzV2vMpdNS"
      }
    },
    {
      "cell_type": "code",
      "source": [
        "import keyword\n",
        "print(keyword.kwlist)\n"
      ],
      "metadata": {
        "colab": {
          "base_uri": "https://localhost:8080/"
        },
        "id": "RbsTMcz5pfTT",
        "outputId": "791b3041-daea-450c-edfb-d679ab4461f3"
      },
      "execution_count": 9,
      "outputs": [
        {
          "output_type": "stream",
          "name": "stdout",
          "text": [
            "['False', 'None', 'True', 'and', 'as', 'assert', 'async', 'await', 'break', 'class', 'continue', 'def', 'del', 'elif', 'else', 'except', 'finally', 'for', 'from', 'global', 'if', 'import', 'in', 'is', 'lambda', 'nonlocal', 'not', 'or', 'pass', 'raise', 'return', 'try', 'while', 'with', 'yield']\n"
          ]
        }
      ]
    },
    {
      "cell_type": "markdown",
      "source": [
        "Ye code likhne par tumhe Python ke sabhi keywords ki list mil jaayegi.\n",
        "\n"
      ],
      "metadata": {
        "id": "x8vvoHOJpjWJ"
      }
    }
  ]
}